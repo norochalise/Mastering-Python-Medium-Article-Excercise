{
  "cells": [
    {
      "cell_type": "markdown",
      "source": [
        "# Mastering Python: A Comprehensive Guide for Aspiring Data Scientists\n",
        "## An intuitive roadmap to Python basics: Your first steps in the world of data science."
      ],
      "metadata": {
        "id": "7_w8LxFw1MIs"
      },
      "id": "7_w8LxFw1MIs"
    },
    {
      "cell_type": "markdown",
      "source": [
        "\n",
        "## 1 . Introduction\n",
        "\n",
        "Welcome to the exercise notebook accompanying my Medium article, '[Mastering Python: A Comprehensive Guide for Aspiring Data Scientists.](https://norochalise.medium.com/5ec6f9a0e1de)' Here, you'll find practical exercises and examples that complement the concepts covered in the article.\n",
        "\n",
        "Feel free to experiment with the code snippets. If you find yourself stuck, refer back to the Medium article for thorough explanations.\n",
        "Enjoy coding and learning Python!\n",
        "\n"
      ],
      "metadata": {
        "id": "jXUHCen81U1t"
      },
      "id": "jXUHCen81U1t"
    },
    {
      "cell_type": "markdown",
      "source": [
        "## 2 . Understanding Python Basics"
      ],
      "metadata": {
        "id": "azwX9LB41bUi"
      },
      "id": "azwX9LB41bUi"
    },
    {
      "cell_type": "markdown",
      "source": [
        "### 2.1 Printing Output:\n",
        "\n"
      ],
      "metadata": {
        "id": "QWNVW6Ml2MQ9"
      },
      "id": "QWNVW6Ml2MQ9"
    },
    {
      "cell_type": "code",
      "source": [
        "print(\"Hello World!\")\n"
      ],
      "metadata": {
        "colab": {
          "base_uri": "https://localhost:8080/"
        },
        "id": "Kzndnr-32L9q",
        "outputId": "74fc43ad-f9b8-49bb-d259-fdf3ff73f0f8"
      },
      "id": "Kzndnr-32L9q",
      "execution_count": null,
      "outputs": [
        {
          "output_type": "stream",
          "name": "stdout",
          "text": [
            "Hello World!\n"
          ]
        }
      ]
    },
    {
      "cell_type": "markdown",
      "source": [
        "In this example, the `print()` functions prints the specified message to the screen, or other standard output device. So it will display `Hello World!`"
      ],
      "metadata": {
        "id": "_LgHEsnm2t5p"
      },
      "id": "_LgHEsnm2t5p"
    },
    {
      "cell_type": "markdown",
      "source": [
        "### 2.2 Comments:\n",
        "Here's an example of a single-line comment:"
      ],
      "metadata": {
        "id": "ZA8i0yRKUOhi"
      },
      "id": "ZA8i0yRKUOhi"
    },
    {
      "cell_type": "code",
      "source": [
        "# This is a comment and Python will ignore this line.\n",
        "print(\"Hello, World!\")\n"
      ],
      "metadata": {
        "colab": {
          "base_uri": "https://localhost:8080/"
        },
        "id": "Rb1mhJXzUe-s",
        "outputId": "63fb78b8-276f-4ae9-af03-26710f40faad"
      },
      "id": "Rb1mhJXzUe-s",
      "execution_count": null,
      "outputs": [
        {
          "output_type": "stream",
          "name": "stdout",
          "text": [
            "Hello, World!\n"
          ]
        }
      ]
    },
    {
      "cell_type": "markdown",
      "source": [
        "In this example, Python will only execute the `print` statement. The text after the '`#`' on the first line is a comment and is ignored by Python."
      ],
      "metadata": {
        "id": "ahX8MvyYVtGy"
      },
      "id": "ahX8MvyYVtGy"
    },
    {
      "cell_type": "markdown",
      "source": [
        "For longer comments that span multiple lines, you can use a '`#`' on each line:"
      ],
      "metadata": {
        "id": "c6-AKs7IV8g_"
      },
      "id": "c6-AKs7IV8g_"
    },
    {
      "cell_type": "code",
      "source": [
        "# This is a multi-line comment.\n",
        "# Each line starts with a '#'.\n",
        "# Python will ignore these lines.\n",
        "print(\"Hello, World!\")\n"
      ],
      "metadata": {
        "colab": {
          "base_uri": "https://localhost:8080/"
        },
        "id": "VJtJsiZvWCs5",
        "outputId": "259a5770-4550-4c90-8940-b2534455cd6d"
      },
      "id": "VJtJsiZvWCs5",
      "execution_count": null,
      "outputs": [
        {
          "output_type": "stream",
          "name": "stdout",
          "text": [
            "Hello, World!\n"
          ]
        }
      ]
    },
    {
      "cell_type": "markdown",
      "source": [
        "Python also allows for multi-line strings which are not assigned to a variable to serve as a multi-line comment, although this is less conventional:"
      ],
      "metadata": {
        "id": "1fVnIiBvWAUC"
      },
      "id": "1fVnIiBvWAUC"
    },
    {
      "cell_type": "code",
      "source": [
        "'''\n",
        "This is another way to write\n",
        "multi-line comments in Python.\n",
        "Python will ignore these lines.\n",
        "'''\n",
        "print(\"Hello, World!\")\n"
      ],
      "metadata": {
        "colab": {
          "base_uri": "https://localhost:8080/"
        },
        "id": "nE1r9PdzWLmz",
        "outputId": "e6c297f8-1aab-4774-b352-5a136e477ad1"
      },
      "id": "nE1r9PdzWLmz",
      "execution_count": null,
      "outputs": [
        {
          "output_type": "stream",
          "name": "stdout",
          "text": [
            "Hello, World!\n"
          ]
        }
      ]
    },
    {
      "cell_type": "markdown",
      "source": [
        "### 2.3. Variables:\n",
        "Variables are like containers where you store values or data. They can be assigned any value using the equal '`=`' sign. For example:"
      ],
      "metadata": {
        "id": "TyYJVAoBV_4u"
      },
      "id": "TyYJVAoBV_4u"
    },
    {
      "cell_type": "code",
      "source": [
        "# Storing a number\n",
        "age = 20\n",
        "print(age)  # Output: 20\n",
        "\n",
        "# Storing a string\n",
        "name = \"John\"\n",
        "print(name)  # Output: John\n",
        "\n",
        "# Storing the result of an operation\n",
        "sum = 10 + 15\n",
        "print(sum)  # Output: 25\n"
      ],
      "metadata": {
        "colab": {
          "base_uri": "https://localhost:8080/"
        },
        "id": "GP_Lw7l9WlvD",
        "outputId": "8a7c7334-d1da-421e-d124-a1556e020276"
      },
      "id": "GP_Lw7l9WlvD",
      "execution_count": null,
      "outputs": [
        {
          "output_type": "stream",
          "name": "stdout",
          "text": [
            "20\n",
            "John\n",
            "25\n"
          ]
        }
      ]
    },
    {
      "cell_type": "markdown",
      "source": [
        "### 2.4 Naming Conventions for Variables\n",
        "In Python, while you can name your variables almost anything, there are few rules and best practices to follow."
      ],
      "metadata": {
        "id": "FSxnbYqRYSyI"
      },
      "id": "FSxnbYqRYSyI"
    },
    {
      "cell_type": "markdown",
      "source": [
        "**Rule 1:** Variable names should start with a letter or an underscore, but not with a number.\n",
        "\n",
        "    * Correct: my_var, _var\n",
        "    * Incorrect`: 9var"
      ],
      "metadata": {
        "id": "8gocsvbOYeWv"
      },
      "id": "8gocsvbOYeWv"
    },
    {
      "cell_type": "markdown",
      "source": [
        "**Rule 2:** Variable names can only contain alphanumeric characters and underscores (A-z, 0-9, and _ )\n",
        "\n",
        "    * Correct: my_var1\n",
        "    * Incorrect: my-var, my$var, my var"
      ],
      "metadata": {
        "id": "brOJynPiY-i5"
      },
      "id": "brOJynPiY-i5"
    },
    {
      "cell_type": "markdown",
      "source": [
        "**Rule 3:** Variable names are case-sensitive (var, Var, and VAR are all different variables)"
      ],
      "metadata": {
        "id": "zkdWm2xhZg5m"
      },
      "id": "zkdWm2xhZg5m"
    },
    {
      "cell_type": "markdown",
      "source": [
        "**Best Practices:**\n",
        "\n",
        "* Use meaningful names that indicate the purpose of the variable. Instead of x, use age, or name.\n",
        "\n",
        "      * For multi-word variable names, use underscores to separate the words for readability. For example, user_input, speed_limit."
      ],
      "metadata": {
        "id": "pIvpO51PZphv"
      },
      "id": "pIvpO51PZphv"
    },
    {
      "cell_type": "code",
      "source": [
        "# Correct Variable Naming\n",
        "user_name = \"Alex\"\n",
        "user_age = 30\n",
        "_total = 100\n",
        "\n",
        "# Incorrect Variable Naming\n",
        "9name = \"Alex\"  # starts with a number\n",
        "total$ = 100    # contains special character\n"
      ],
      "metadata": {
        "id": "Yt_YV8OsYaxT"
      },
      "id": "Yt_YV8OsYaxT",
      "execution_count": null,
      "outputs": []
    },
    {
      "cell_type": "markdown",
      "source": [
        "### 2.5 String Formatting - f-string"
      ],
      "metadata": {
        "id": "afgKDiXYXQcL"
      },
      "id": "afgKDiXYXQcL"
    },
    {
      "cell_type": "code",
      "source": [
        "name = \"Alice\"\n",
        "age = 15\n",
        "\n",
        "# using f-string to print value within the string\n",
        "print(f\"Hello, my name is {name} and I am {age} years old.\")\n"
      ],
      "metadata": {
        "id": "QokVkai8W6bf"
      },
      "id": "QokVkai8W6bf",
      "execution_count": null,
      "outputs": []
    },
    {
      "cell_type": "markdown",
      "source": [
        "### 2.6 Comparison and Assignment Operators\n"
      ],
      "metadata": {
        "id": "p4Lc_1YnxTn8"
      },
      "id": "p4Lc_1YnxTn8"
    },
    {
      "cell_type": "markdown",
      "source": [
        "* `=` is an assignment operator. It's used to assign the value on the right to the variable on the left. For example:"
      ],
      "metadata": {
        "id": "lWgoQdmZxhla"
      },
      "id": "lWgoQdmZxhla"
    },
    {
      "cell_type": "code",
      "source": [
        "x = 5\n"
      ],
      "metadata": {
        "id": "KsYx-kVBxpb3"
      },
      "id": "KsYx-kVBxpb3",
      "execution_count": null,
      "outputs": []
    },
    {
      "cell_type": "markdown",
      "source": [
        "Here, 5 is assigned to the variable `x`."
      ],
      "metadata": {
        "id": "bCxMizDYxtdt"
      },
      "id": "bCxMizDYxtdt"
    },
    {
      "cell_type": "markdown",
      "source": [
        "* `==`  is a comparison operator that checks whether the values of two operands are equal. If the values are equal, the condition evaluates to `True`; otherwise, it evaluates to `False`. For example:\""
      ],
      "metadata": {
        "id": "X2ZEE1jfx5vl"
      },
      "id": "X2ZEE1jfx5vl"
    },
    {
      "cell_type": "code",
      "source": [
        "x = 5\n",
        "print(x == 5)\n"
      ],
      "metadata": {
        "id": "b6hKBbiFyCYa"
      },
      "id": "b6hKBbiFyCYa",
      "execution_count": null,
      "outputs": []
    },
    {
      "cell_type": "markdown",
      "source": [
        "This will output `True` because `x` is indeed 5."
      ],
      "metadata": {
        "id": "1K92dSpNyKdd"
      },
      "id": "1K92dSpNyKdd"
    },
    {
      "cell_type": "markdown",
      "source": [
        "* `!=` is also a comparison operator. It checks if the values of two operands are not equal. If they are not equal, the condition becomes true. For example:"
      ],
      "metadata": {
        "id": "qDXMM792yZbn"
      },
      "id": "qDXMM792yZbn"
    },
    {
      "cell_type": "code",
      "source": [
        "x = 5\n",
        "print(x != 5)\n"
      ],
      "metadata": {
        "id": "40VpI1w-ymLF"
      },
      "id": "40VpI1w-ymLF",
      "execution_count": null,
      "outputs": []
    },
    {
      "cell_type": "markdown",
      "source": [
        "This will output `False` because `x` is not equal to 5 is `False` statement."
      ],
      "metadata": {
        "id": "ZcmqEkoLyuvo"
      },
      "id": "ZcmqEkoLyuvo"
    },
    {
      "cell_type": "markdown",
      "source": [
        "## 3. Python Data Types"
      ],
      "metadata": {
        "id": "Mht1QR3X3b2g"
      },
      "id": "Mht1QR3X3b2g"
    },
    {
      "cell_type": "markdown",
      "source": [
        "### 3.1. Numbers\n",
        "\n",
        "In Python, numbers can be of three types: integers (like 3, 5, 7), floating-point numbers (like 3.14, 6.022), and complex numbers (like 1 + 2j). Here's an explanation of the three primary numeric data types in Python, along with their main operations:"
      ],
      "metadata": {
        "id": "eyTU1TPC3m5C"
      },
      "id": "eyTU1TPC3m5C"
    },
    {
      "cell_type": "markdown",
      "source": [
        "#### 3.1.1. Integers:\n",
        "These are positive or negative whole numbers with no decimal point. Integer size is limited only by your machine's memory.\n",
        "\n",
        "Example:"
      ],
      "metadata": {
        "id": "OGIB6XIi4fQZ"
      },
      "id": "OGIB6XIi4fQZ"
    },
    {
      "cell_type": "code",
      "source": [
        "x = 10\n",
        "y = -5\n",
        "print(type(x))  # Output: <class 'int'>\n"
      ],
      "metadata": {
        "id": "F1COGRBC4qDf"
      },
      "id": "F1COGRBC4qDf",
      "execution_count": null,
      "outputs": []
    },
    {
      "cell_type": "markdown",
      "source": [
        "#### 3.1.2. Floats:\n",
        "Floating point numbers in Python are notable for their decimal point. They can also be scientific numbers with an \"e\" or \"E\" to indicate the power of 10.\n",
        "\n",
        "Example:"
      ],
      "metadata": {
        "id": "KuTk3vvd43sh"
      },
      "id": "KuTk3vvd43sh"
    },
    {
      "cell_type": "code",
      "source": [
        "x = 20.5\n",
        "y = -13.4\n",
        "z = 35e3  # 35000.0, the 'e' denotes 'times 10 raised to'\n",
        "print(type(x))  # Output: <class 'float'>\n"
      ],
      "metadata": {
        "id": "nhBiNLjW4130"
      },
      "id": "nhBiNLjW4130",
      "execution_count": null,
      "outputs": []
    },
    {
      "cell_type": "markdown",
      "source": [
        "#### 3.1.3. Complex Numbers:\n",
        "Complex numbers are written with a \"j\" or \"J\" as the imaginary part.\n",
        "\n",
        "Example:"
      ],
      "metadata": {
        "id": "fyou_Z_M5NKp"
      },
      "id": "fyou_Z_M5NKp"
    },
    {
      "cell_type": "code",
      "source": [
        "x = 3+5j\n",
        "print(type(x))  # Output: <class 'complex'>\n"
      ],
      "metadata": {
        "id": "tQ0IwMgk5cQy"
      },
      "id": "tQ0IwMgk5cQy",
      "execution_count": null,
      "outputs": []
    },
    {
      "cell_type": "markdown",
      "source": [
        "#### Main operations"
      ],
      "metadata": {
        "id": "WOuGC5Qi5vuV"
      },
      "id": "WOuGC5Qi5vuV"
    },
    {
      "cell_type": "markdown",
      "source": [
        "**Addition (+):** Adds values on either side of the operator."
      ],
      "metadata": {
        "id": "-0blxw2u53v4"
      },
      "id": "-0blxw2u53v4"
    },
    {
      "cell_type": "code",
      "source": [
        "x = 5\n",
        "y = 3.5\n",
        "print(x + y)  # Output: 8.5\n"
      ],
      "metadata": {
        "id": "4aMfRBzA2L4S"
      },
      "id": "4aMfRBzA2L4S",
      "execution_count": null,
      "outputs": []
    },
    {
      "cell_type": "markdown",
      "source": [
        "**Subtraction (-):** Subtracts right-hand operand from left-hand operand."
      ],
      "metadata": {
        "id": "emAhAnR85_VR"
      },
      "id": "emAhAnR85_VR"
    },
    {
      "cell_type": "code",
      "source": [
        "x = 10\n",
        "y = 6\n",
        "print(x - y)  # Output: 4\n"
      ],
      "metadata": {
        "id": "v8ld5lD_2L1s"
      },
      "id": "v8ld5lD_2L1s",
      "execution_count": null,
      "outputs": []
    },
    {
      "cell_type": "markdown",
      "source": [
        "**Multiplication (*):** Multiplies values on either side of the operator."
      ],
      "metadata": {
        "id": "IbqA-yIs6IfV"
      },
      "id": "IbqA-yIs6IfV"
    },
    {
      "cell_type": "code",
      "source": [
        "x = 7\n",
        "y = 2\n",
        "print(x * y)  # Output: 14\n"
      ],
      "metadata": {
        "id": "LHL9F0D26NA1"
      },
      "id": "LHL9F0D26NA1",
      "execution_count": null,
      "outputs": []
    },
    {
      "cell_type": "markdown",
      "source": [
        "**Division (/):** Divides left-hand operand by right-hand operand."
      ],
      "metadata": {
        "id": "jHiAZ-Kx6Xgw"
      },
      "id": "jHiAZ-Kx6Xgw"
    },
    {
      "cell_type": "code",
      "source": [
        "x = 20\n",
        "y = 5\n",
        "print(x / y)  # Output: 4.0\n"
      ],
      "metadata": {
        "id": "dNfj-Ga66Sh7"
      },
      "id": "dNfj-Ga66Sh7",
      "execution_count": null,
      "outputs": []
    },
    {
      "cell_type": "markdown",
      "source": [
        "**Modulus (%):** Divides left-hand operand by right-hand operand and returns the remainder."
      ],
      "metadata": {
        "id": "K9-LU2m66g_6"
      },
      "id": "K9-LU2m66g_6"
    },
    {
      "cell_type": "code",
      "source": [
        "x = 10\n",
        "y = 3\n",
        "print(x % y)  # Output: 1\n"
      ],
      "metadata": {
        "id": "7oGLg2pI6SfX"
      },
      "id": "7oGLg2pI6SfX",
      "execution_count": null,
      "outputs": []
    },
    {
      "cell_type": "markdown",
      "source": [
        "**Exponentiation** (**): Performs exponential (power) calculation on operators."
      ],
      "metadata": {
        "id": "dGRNktGd6qtm"
      },
      "id": "dGRNktGd6qtm"
    },
    {
      "cell_type": "code",
      "source": [
        "x = 2\n",
        "y = 3\n",
        "print(x ** y)  # Output: 8\n"
      ],
      "metadata": {
        "id": "O9sWD4Oc6SaL"
      },
      "id": "O9sWD4Oc6SaL",
      "execution_count": null,
      "outputs": []
    },
    {
      "cell_type": "markdown",
      "source": [
        "**Floor Division (//):** The division of operands where the result is the quotient in which the digits after the decimal point are removed."
      ],
      "metadata": {
        "id": "fV-Ccxrl62Jh"
      },
      "id": "fV-Ccxrl62Jh"
    },
    {
      "cell_type": "code",
      "source": [
        "x = 17\n",
        "y = 4\n",
        "print(x // y)  # Output: 4\n"
      ],
      "metadata": {
        "id": "uZWSWxCn6SXd"
      },
      "id": "uZWSWxCn6SXd",
      "execution_count": null,
      "outputs": []
    },
    {
      "cell_type": "markdown",
      "source": [
        "### 3.2 Strings\n",
        "Strings in Python are sequences of characters and are defined either with a single quote ' ' or a double quote \" \". Strings in Python are immutable, which means once defined, you cannot change their contents.\n",
        "\n",
        "Example"
      ],
      "metadata": {
        "id": "gGcvM6NC7heY"
      },
      "id": "gGcvM6NC7heY"
    },
    {
      "cell_type": "code",
      "source": [
        "str1 = 'Hello,'\n",
        "str2 = \" World!\"\n",
        "print(type(str1))  # Output: <class 'str'>\n"
      ],
      "metadata": {
        "id": "37aso3e46SVK"
      },
      "id": "37aso3e46SVK",
      "execution_count": null,
      "outputs": []
    },
    {
      "cell_type": "markdown",
      "source": [
        "#### 3.2.1 String Operations:\n",
        "**Concatenation:** Concatenation means to link two things together. In Python, you can concatenate strings using the + operator."
      ],
      "metadata": {
        "id": "xTJdQ6WQ9HBd"
      },
      "id": "xTJdQ6WQ9HBd"
    },
    {
      "cell_type": "markdown",
      "source": [
        "Example:"
      ],
      "metadata": {
        "id": "KRrUXcfhmbgv"
      },
      "id": "KRrUXcfhmbgv"
    },
    {
      "cell_type": "code",
      "source": [
        "str1 = 'Hello,'\n",
        "str2 = \" World!\"\n",
        "str3 = str1 + str2  # Concatenating str1 and str2\n",
        "print(str3)  # Output: Hello, World!\n"
      ],
      "metadata": {
        "id": "qyxYcbji6SP5"
      },
      "id": "qyxYcbji6SP5",
      "execution_count": null,
      "outputs": []
    },
    {
      "cell_type": "markdown",
      "source": [
        "**Slicing:** Slicing is an operation to extract a part of the string. In Python, we can slice strings using the slice operator [] and [:]."
      ],
      "metadata": {
        "id": "Fl_Ajj7zmpnN"
      },
      "id": "Fl_Ajj7zmpnN"
    },
    {
      "cell_type": "markdown",
      "source": [
        "Example:"
      ],
      "metadata": {
        "id": "nzaS2YclmuFD"
      },
      "id": "nzaS2YclmuFD"
    },
    {
      "cell_type": "code",
      "source": [
        "str1 = \"Hello, World!\"\n",
        "print(str1[7:12])  # Slice from index 7 to 11, Output: World\n",
        "print(str1[7:])  # Slice from index 7 to the end, Output: World!\n",
        "print(str1[:5])  # Slice from the start to index 4, Output: Hello\n",
        "print(str1[:-1])  # Slice from the start to the second last character, Output: Hello, World\n"
      ],
      "metadata": {
        "id": "ae79GP1w6SNW",
        "colab": {
          "base_uri": "https://localhost:8080/"
        },
        "outputId": "c2b3c812-c260-44f3-8bc4-43cbc80b45cc"
      },
      "id": "ae79GP1w6SNW",
      "execution_count": null,
      "outputs": [
        {
          "output_type": "stream",
          "name": "stdout",
          "text": [
            "World\n",
            "World!\n",
            "Hello\n",
            "Hello, World\n"
          ]
        }
      ]
    },
    {
      "cell_type": "markdown",
      "source": [
        "**Indexing:** Indexing is used to access individual characters in the string. Python uses zero-based indexing, i.e., indexing starts from 0."
      ],
      "metadata": {
        "id": "94bmBr-Gm-5J"
      },
      "id": "94bmBr-Gm-5J"
    },
    {
      "cell_type": "markdown",
      "source": [
        "Example:"
      ],
      "metadata": {
        "id": "5X_wFaZVnGF-"
      },
      "id": "5X_wFaZVnGF-"
    },
    {
      "cell_type": "code",
      "source": [
        "str1 = \"Hello, World!\"\n",
        "print(str1[0])  # Output: H\n",
        "print(str1[7])  # Output: W"
      ],
      "metadata": {
        "id": "7ajcrdoN6SIV"
      },
      "id": "7ajcrdoN6SIV",
      "execution_count": null,
      "outputs": []
    },
    {
      "cell_type": "markdown",
      "source": [
        "Also note, Python supports negative indexing, where -1 refers to the last character, -2 refers to the second last character and so on.\n",
        "\n",
        "Example:"
      ],
      "metadata": {
        "id": "X2ars8bQnQ_g"
      },
      "id": "X2ars8bQnQ_g"
    },
    {
      "cell_type": "code",
      "source": [
        "str1 = \"Hello, World!\"\n",
        "print(str1[-1])  # Output: !\n",
        "print(str1[-2])  # Output: d\n"
      ],
      "metadata": {
        "id": "ag7cX8Hn6SF6",
        "colab": {
          "base_uri": "https://localhost:8080/"
        },
        "outputId": "e0a000e3-a141-4785-e667-6c69051ac6e8"
      },
      "id": "ag7cX8Hn6SF6",
      "execution_count": null,
      "outputs": [
        {
          "output_type": "stream",
          "name": "stdout",
          "text": [
            "!\n",
            "d\n"
          ]
        }
      ]
    },
    {
      "cell_type": "markdown",
      "source": [
        "### 3.3 Boolean Data Type"
      ],
      "metadata": {
        "id": "KBNM_RTsAoPB"
      },
      "id": "KBNM_RTsAoPB"
    },
    {
      "cell_type": "markdown",
      "source": [
        "The Boolean data type in Python consists of two values - `True` or `False`. They often emerge when comparing variables or values. For instance:"
      ],
      "metadata": {
        "id": "njF7H9TjAw22"
      },
      "id": "njF7H9TjAw22"
    },
    {
      "cell_type": "code",
      "source": [
        "print(10 > 5)  # Output: True\n"
      ],
      "metadata": {
        "colab": {
          "base_uri": "https://localhost:8080/"
        },
        "id": "5RbxRElfA64u",
        "outputId": "ac9eef4f-055e-4415-f2b4-dca7fb5ae30e"
      },
      "id": "5RbxRElfA64u",
      "execution_count": null,
      "outputs": [
        {
          "output_type": "stream",
          "name": "stdout",
          "text": [
            "True\n"
          ]
        }
      ]
    },
    {
      "cell_type": "markdown",
      "source": [
        "In this case, Python evaluates if 10 is greater than 5, and since it's true, Python returns `True`."
      ],
      "metadata": {
        "id": "mPAr03U5A-bs"
      },
      "id": "mPAr03U5A-bs"
    },
    {
      "cell_type": "markdown",
      "source": [
        "You can also directly assign Boolean values to variables:"
      ],
      "metadata": {
        "id": "eJzb0gAeBNRH"
      },
      "id": "eJzb0gAeBNRH"
    },
    {
      "cell_type": "code",
      "source": [
        "is_python_fun = True\n",
        "print(is_python_fun)  # Output: True\n"
      ],
      "metadata": {
        "colab": {
          "base_uri": "https://localhost:8080/"
        },
        "id": "2QKXlb1fBO3v",
        "outputId": "3eb988f1-43c8-47fa-809b-5fff7a1c2f8d"
      },
      "id": "2QKXlb1fBO3v",
      "execution_count": null,
      "outputs": [
        {
          "output_type": "stream",
          "name": "stdout",
          "text": [
            "True\n"
          ]
        }
      ]
    },
    {
      "cell_type": "markdown",
      "source": [
        "Here, the variable `is_python_fun` is assigned the Boolean value `True`. You'll use Booleans extensively in control flow and logical operations in Python."
      ],
      "metadata": {
        "id": "LyiV-DfCBVuh"
      },
      "id": "LyiV-DfCBVuh"
    },
    {
      "cell_type": "markdown",
      "source": [
        "### 3.4 Lists:\n"
      ],
      "metadata": {
        "id": "-K0rXPZnoAw6"
      },
      "id": "-K0rXPZnoAw6"
    },
    {
      "cell_type": "code",
      "source": [
        "my_list = [1, \"Hello\", 3.14, [1, 2, 3]]\n",
        "print(type(my_list))  # Output: <class 'list'>\n"
      ],
      "metadata": {
        "colab": {
          "base_uri": "https://localhost:8080/"
        },
        "id": "ThHkmCjooABn",
        "outputId": "9160b22d-9542-4184-bf0f-ee25d4cf2a90"
      },
      "id": "ThHkmCjooABn",
      "execution_count": null,
      "outputs": [
        {
          "output_type": "stream",
          "name": "stdout",
          "text": [
            "<class 'list'>\n"
          ]
        }
      ]
    },
    {
      "cell_type": "markdown",
      "source": [
        "#### 3.4.1 Operations with Lists:\n",
        "**Creation:** You can create a list by placing a comma-separated sequence of items inside square brackets `[]`.\n",
        "\n",
        "Example:"
      ],
      "metadata": {
        "id": "4_QaMnEapPLi"
      },
      "id": "4_QaMnEapPLi"
    },
    {
      "cell_type": "code",
      "source": [
        "my_list = ['apple', 'banana', 'cherry']\n"
      ],
      "metadata": {
        "id": "zlDs4bg0n_-j"
      },
      "id": "zlDs4bg0n_-j",
      "execution_count": null,
      "outputs": []
    },
    {
      "cell_type": "markdown",
      "source": [
        "**Adding Elements:** Elements can be added to a list with the `append()` method, or you can concatenate two lists with the `+` operator.\n",
        "\n",
        "Example:"
      ],
      "metadata": {
        "id": "BxKFaqDGpwXu"
      },
      "id": "BxKFaqDGpwXu"
    },
    {
      "cell_type": "code",
      "source": [
        "my_list = ['apple', 'banana', 'cherry']\n",
        "my_list.append('date')  # Using append() to add an element\n",
        "print(my_list)  # Output: ['apple', 'banana', 'cherry', 'date']\n",
        "\n",
        "my_other_list = ['elderberry', 'fig']\n",
        "my_list = my_list + my_other_list  # Concatenating two lists\n",
        "print(my_list)  # Output: ['apple', 'banana', 'cherry', 'date', 'elderberry', 'fig']\n"
      ],
      "metadata": {
        "colab": {
          "base_uri": "https://localhost:8080/"
        },
        "id": "DvSgYSHXn_7c",
        "outputId": "2dde7b08-b320-43ae-9636-0f89c1d5646b"
      },
      "id": "DvSgYSHXn_7c",
      "execution_count": null,
      "outputs": [
        {
          "output_type": "stream",
          "name": "stdout",
          "text": [
            "['apple', 'banana', 'cherry', 'date']\n",
            "['apple', 'banana', 'cherry', 'date', 'elderberry', 'fig']\n"
          ]
        }
      ]
    },
    {
      "cell_type": "markdown",
      "source": [
        "**Removing Elements:** Elements can be removed from the list using the `remove()` method, or the `del` statement if you know the index of the element.\n",
        "\n",
        "Example:"
      ],
      "metadata": {
        "id": "FnkdjPq1qEUY"
      },
      "id": "FnkdjPq1qEUY"
    },
    {
      "cell_type": "code",
      "source": [
        "my_list = ['apple', 'banana', 'cherry']\n",
        "my_list.remove('banana')  # Remove an item by value\n",
        "print(my_list)  # Output: ['apple', 'cherry']\n",
        "\n",
        "del my_list[0]  # Remove an item by index\n",
        "print(my_list)  # Output: ['cherry']\n"
      ],
      "metadata": {
        "colab": {
          "base_uri": "https://localhost:8080/"
        },
        "id": "Wdnkv1Nun_5Z",
        "outputId": "664d4ed2-72d0-4235-9982-131beb603816"
      },
      "id": "Wdnkv1Nun_5Z",
      "execution_count": null,
      "outputs": [
        {
          "output_type": "stream",
          "name": "stdout",
          "text": [
            "['apple', 'cherry']\n",
            "['cherry']\n"
          ]
        }
      ]
    },
    {
      "cell_type": "markdown",
      "source": [
        "**Accessing Elements:** List elements can be accessed by their index, using the slice operator `[]`. Python uses zero-based indexing.\n",
        "\n",
        "Example:"
      ],
      "metadata": {
        "id": "36VzoBL0qWkz"
      },
      "id": "36VzoBL0qWkz"
    },
    {
      "cell_type": "code",
      "source": [
        "my_list = ['apple', 'banana', 'cherry']\n",
        "print(my_list[0])  # Output: apple\n",
        "\n",
        "# Accessing list elements with negative indexing\n",
        "print(my_list[-1])  # Output: cherry\n"
      ],
      "metadata": {
        "colab": {
          "base_uri": "https://localhost:8080/"
        },
        "id": "WphOShwYn_2t",
        "outputId": "f2078b7d-90e1-4167-915f-66eab14b15e3"
      },
      "id": "WphOShwYn_2t",
      "execution_count": null,
      "outputs": [
        {
          "output_type": "stream",
          "name": "stdout",
          "text": [
            "apple\n",
            "cherry\n"
          ]
        }
      ]
    },
    {
      "cell_type": "markdown",
      "source": [
        "Also, similar to strings, we can use slicing to access a range of list elements.\n",
        "\n",
        "Example:"
      ],
      "metadata": {
        "id": "oeG0OOIjqk85"
      },
      "id": "oeG0OOIjqk85"
    },
    {
      "cell_type": "code",
      "source": [
        "my_list = ['apple', 'banana', 'cherry', 'date', 'elderberry', 'fig']\n",
        "print(my_list[2:5])  # Output: ['cherry', 'date', 'elderberry']\n"
      ],
      "metadata": {
        "colab": {
          "base_uri": "https://localhost:8080/"
        },
        "id": "F29cpgepn_0Z",
        "outputId": "6f9d8ec8-2089-48da-8196-990a906e0ef7"
      },
      "id": "F29cpgepn_0Z",
      "execution_count": null,
      "outputs": [
        {
          "output_type": "stream",
          "name": "stdout",
          "text": [
            "['cherry', 'date', 'elderberry']\n"
          ]
        }
      ]
    },
    {
      "cell_type": "markdown",
      "source": [
        "### 3.5 Tuples\n",
        "\n"
      ],
      "metadata": {
        "id": "27u3Bo-qrOth"
      },
      "id": "27u3Bo-qrOth"
    },
    {
      "cell_type": "code",
      "source": [
        "my_tuple = (1, \"Hello\", 3.14, [1, 2, 3])\n",
        "print(type(my_tuple))  # Output: <class 'tuple'>\n"
      ],
      "metadata": {
        "colab": {
          "base_uri": "https://localhost:8080/"
        },
        "id": "03lYHFYLn_xm",
        "outputId": "b654a09b-b31c-44cc-ded0-db3b04455e1d"
      },
      "id": "03lYHFYLn_xm",
      "execution_count": null,
      "outputs": [
        {
          "output_type": "stream",
          "name": "stdout",
          "text": [
            "<class 'tuple'>\n"
          ]
        }
      ]
    },
    {
      "cell_type": "markdown",
      "source": [
        "#### 3.5.2 Operations with Tuples:\n",
        "\n"
      ],
      "metadata": {
        "id": "iOSeVO63s0tq"
      },
      "id": "iOSeVO63s0tq"
    },
    {
      "cell_type": "markdown",
      "source": [
        "  **Creation:** You can create a tuple by placing a comma-separated sequence of items inside round brackets `()`.\n",
        "\n",
        "  Example:"
      ],
      "metadata": {
        "id": "_kZz2OCrtHUE"
      },
      "id": "_kZz2OCrtHUE"
    },
    {
      "cell_type": "code",
      "source": [
        "my_tuple = ('apple', 'banana', 'cherry')\n"
      ],
      "metadata": {
        "id": "yk7ITocCn_vV"
      },
      "id": "yk7ITocCn_vV",
      "execution_count": null,
      "outputs": []
    },
    {
      "cell_type": "markdown",
      "source": [
        "**Adding Elements:** Technically, because tuples are immutable, you cannot add elements to a tuple. However, there's a workaround by concatenating two tuples using the `+` operator.\n",
        "\n",
        "Example:"
      ],
      "metadata": {
        "id": "w3ChpWfjtS6-"
      },
      "id": "w3ChpWfjtS6-"
    },
    {
      "cell_type": "code",
      "source": [
        "my_tuple = ('apple', 'banana', 'cherry')\n",
        "my_other_tuple = ('date', 'elderberry')\n",
        "my_tuple = my_tuple + my_other_tuple\n",
        "print(my_tuple)  # Output: ('apple', 'banana', 'cherry', 'date', 'elderberry')\n"
      ],
      "metadata": {
        "colab": {
          "base_uri": "https://localhost:8080/"
        },
        "id": "gah9OmuHn_sg",
        "outputId": "69b479cc-60af-4960-937f-1deb1617affc"
      },
      "id": "gah9OmuHn_sg",
      "execution_count": null,
      "outputs": [
        {
          "output_type": "stream",
          "name": "stdout",
          "text": [
            "('apple', 'banana', 'cherry', 'date', 'elderberry')\n"
          ]
        }
      ]
    },
    {
      "cell_type": "markdown",
      "source": [
        "**Removing Elements:** Similar to adding elements, you cannot remove elements from a tuple because tuples are immutable. Instead, you could convert the tuple to a list, remove the element, and convert it back to a tuple.\n",
        "\n",
        "Example:"
      ],
      "metadata": {
        "id": "7UiMo72LtkQe"
      },
      "id": "7UiMo72LtkQe"
    },
    {
      "cell_type": "code",
      "source": [
        "my_tuple = ('apple', 'banana', 'cherry')\n",
        "my_list = list(my_tuple)  # Converting the tuple to a list\n",
        "my_list.remove('banana')  # Remove an item\n",
        "my_tuple = tuple(my_list)  # Convert the list back into a tuple\n",
        "print(my_tuple)  # Output: ('apple', 'cherry')\n"
      ],
      "metadata": {
        "colab": {
          "base_uri": "https://localhost:8080/"
        },
        "id": "kEakOv3xtj9i",
        "outputId": "ec027b5c-205b-4336-d84e-55049b1f921e"
      },
      "id": "kEakOv3xtj9i",
      "execution_count": null,
      "outputs": [
        {
          "output_type": "stream",
          "name": "stdout",
          "text": [
            "('apple', 'cherry')\n"
          ]
        }
      ]
    },
    {
      "cell_type": "markdown",
      "source": [
        "**Accessing Elements:** Similar to lists, you can access tuple elements by their index, using the slice operator `[]`. Python uses zero-based indexing.\n",
        "\n",
        "Example:"
      ],
      "metadata": {
        "id": "-QNZdNhQtxrn"
      },
      "id": "-QNZdNhQtxrn"
    },
    {
      "cell_type": "code",
      "source": [
        "my_tuple = ('apple', 'banana', 'cherry')\n",
        "print(my_tuple[0])  # Output: apple\n",
        "\n",
        "# Accessing tuple elements with negative indexing\n",
        "print(my_tuple[-1])  # Output: cherry\n"
      ],
      "metadata": {
        "colab": {
          "base_uri": "https://localhost:8080/"
        },
        "id": "ezJg6XQ5n_p6",
        "outputId": "b7f6ea2b-c649-4421-dec2-231ef51708ad"
      },
      "id": "ezJg6XQ5n_p6",
      "execution_count": null,
      "outputs": [
        {
          "output_type": "stream",
          "name": "stdout",
          "text": [
            "apple\n",
            "cherry\n"
          ]
        }
      ]
    },
    {
      "cell_type": "markdown",
      "source": [
        "Also, similar to lists, you can use slicing to access a range of tuple elements.\n",
        "\n",
        "Example:"
      ],
      "metadata": {
        "id": "pmI6dwNduBfa"
      },
      "id": "pmI6dwNduBfa"
    },
    {
      "cell_type": "code",
      "source": [
        "my_tuple = ('apple', 'banana', 'cherry', 'date', 'elderberry', 'fig')\n",
        "print(my_tuple[2:5])  # Output: ('cherry', 'date', 'elderberry')\n"
      ],
      "metadata": {
        "colab": {
          "base_uri": "https://localhost:8080/"
        },
        "id": "A0I9nQx-n_mz",
        "outputId": "4f514cd8-276b-440f-b4e4-ebe08babaf3b"
      },
      "id": "A0I9nQx-n_mz",
      "execution_count": null,
      "outputs": [
        {
          "output_type": "stream",
          "name": "stdout",
          "text": [
            "('cherry', 'date', 'elderberry')\n"
          ]
        }
      ]
    },
    {
      "cell_type": "markdown",
      "source": [
        "### 3.6 Set:\n",
        "A set in Python is an unordered collection of unique items. We define a set with curly braces `{}` and separate items with commas. If you want to create an empty set, use `set()`."
      ],
      "metadata": {
        "id": "U_C7VinEB1ho"
      },
      "id": "U_C7VinEB1ho"
    },
    {
      "cell_type": "code",
      "source": [
        "# A set of integers\n",
        "my_set = {1, 2, 3}\n",
        "print(my_set)  # Output: {1, 2, 3}\n",
        "\n",
        "# An empty set\n",
        "empty_set = set()\n",
        "print(empty_set)  # Output: set()\n"
      ],
      "metadata": {
        "colab": {
          "base_uri": "https://localhost:8080/"
        },
        "id": "hfhogXYOCjY-",
        "outputId": "817e042b-3c2e-42d5-97c6-983b1d6db5df"
      },
      "id": "hfhogXYOCjY-",
      "execution_count": null,
      "outputs": [
        {
          "output_type": "stream",
          "name": "stdout",
          "text": [
            "{1, 2, 3}\n",
            "set()\n"
          ]
        }
      ]
    },
    {
      "cell_type": "markdown",
      "source": [
        "One of the key features of a set is that it doesn't allow duplicates. If we try to add a duplicate item to a set, Python ignores it."
      ],
      "metadata": {
        "id": "e56JisauCnhz"
      },
      "id": "e56JisauCnhz"
    },
    {
      "cell_type": "code",
      "source": [
        "# A set with duplicate items\n",
        "my_set = {1, 2, 2, 3, 3, 3}\n",
        "print(my_set)  # Output: {1, 2, 3}\n"
      ],
      "metadata": {
        "colab": {
          "base_uri": "https://localhost:8080/"
        },
        "id": "Ep0PaMafCtC7",
        "outputId": "3a185821-d21d-4e8a-ada6-84aefa0e693e"
      },
      "id": "Ep0PaMafCtC7",
      "execution_count": null,
      "outputs": [
        {
          "output_type": "stream",
          "name": "stdout",
          "text": [
            "{1, 2, 3}\n"
          ]
        }
      ]
    },
    {
      "cell_type": "markdown",
      "source": [
        "#### 3.6.1 Set Operations"
      ],
      "metadata": {
        "id": "kMUyD04xC0Qg"
      },
      "id": "kMUyD04xC0Qg"
    },
    {
      "cell_type": "markdown",
      "source": [
        "**Union Operation:** The union operation is used to merge two sets together. The resulting set will include all unique elements from both sets."
      ],
      "metadata": {
        "id": "vBfzEoegDMxM"
      },
      "id": "vBfzEoegDMxM"
    },
    {
      "cell_type": "code",
      "source": [
        "# Initialize two sets\n",
        "set_a = {1, 2, 3, 4, 5}\n",
        "set_b = {4, 5, 6, 7, 8}\n",
        "\n",
        "# Perform a union operation\n",
        "set_union = set_a.union(set_b)\n",
        "print(set_union)  # Output: {1, 2, 3, 4, 5, 6, 7, 8}\n"
      ],
      "metadata": {
        "colab": {
          "base_uri": "https://localhost:8080/"
        },
        "id": "n-c8LNKNDhhe",
        "outputId": "19186993-2027-4e1c-b6bc-0820f378d483"
      },
      "id": "n-c8LNKNDhhe",
      "execution_count": null,
      "outputs": [
        {
          "output_type": "stream",
          "name": "stdout",
          "text": [
            "{1, 2, 3, 4, 5, 6, 7, 8}\n"
          ]
        }
      ]
    },
    {
      "cell_type": "markdown",
      "source": [
        "**Intersection Operation:** The intersection operation will return a new set containing only the common elements of both sets."
      ],
      "metadata": {
        "id": "fTXEErBBDlnv"
      },
      "id": "fTXEErBBDlnv"
    },
    {
      "cell_type": "code",
      "source": [
        "# Perform an intersection operation\n",
        "set_intersection = set_a.intersection(set_b)\n",
        "print(set_intersection)  # Output: {4, 5}\n"
      ],
      "metadata": {
        "colab": {
          "base_uri": "https://localhost:8080/"
        },
        "id": "waAyRAsTDuBd",
        "outputId": "bbf9dbb6-487e-4d2a-80d6-0d1a06d6cfba"
      },
      "id": "waAyRAsTDuBd",
      "execution_count": null,
      "outputs": [
        {
          "output_type": "stream",
          "name": "stdout",
          "text": [
            "{4, 5}\n"
          ]
        }
      ]
    },
    {
      "cell_type": "markdown",
      "source": [
        "**Difference Operation:** The difference operation will subtract one set from another and return the unique elements of the first set."
      ],
      "metadata": {
        "id": "S76HUJpgDzgf"
      },
      "id": "S76HUJpgDzgf"
    },
    {
      "cell_type": "code",
      "source": [
        "# Perform a difference operation\n",
        "set_difference = set_a.difference(set_b)\n",
        "print(set_difference)  # Output: {1, 2, 3}\n"
      ],
      "metadata": {
        "colab": {
          "base_uri": "https://localhost:8080/"
        },
        "id": "nASihhFLD7Y5",
        "outputId": "0d4ee4a1-915a-4002-a169-0bbc84cd60f0"
      },
      "id": "nASihhFLD7Y5",
      "execution_count": null,
      "outputs": [
        {
          "output_type": "stream",
          "name": "stdout",
          "text": [
            "{1, 2, 3}\n"
          ]
        }
      ]
    },
    {
      "cell_type": "markdown",
      "source": [
        "**Symmetric Difference Operation:** The symmetric difference operation returns all elements that are unique to each set."
      ],
      "metadata": {
        "id": "tKO1efLVD_3m"
      },
      "id": "tKO1efLVD_3m"
    },
    {
      "cell_type": "code",
      "source": [
        "# Perform a symmetric difference operation\n",
        "set_sym_difference = set_a.symmetric_difference(set_b)\n",
        "print(set_sym_difference)  # Output: {1, 2, 3, 6, 7, 8}\n"
      ],
      "metadata": {
        "colab": {
          "base_uri": "https://localhost:8080/"
        },
        "id": "xV5A5z81EGAS",
        "outputId": "f529adef-fbe4-4cae-a580-574b3e4140ae"
      },
      "id": "xV5A5z81EGAS",
      "execution_count": null,
      "outputs": [
        {
          "output_type": "stream",
          "name": "stdout",
          "text": [
            "{1, 2, 3, 6, 7, 8}\n"
          ]
        }
      ]
    },
    {
      "cell_type": "markdown",
      "source": [
        "In each example, you can see how these operations interact with the sets `set_a` and `set_b`. Note that these operations do not modify the original sets; they create and return new ones."
      ],
      "metadata": {
        "id": "exHpnoKDEMFV"
      },
      "id": "exHpnoKDEMFV"
    },
    {
      "cell_type": "markdown",
      "source": [
        "### 3.7 Dictionaries:\n",
        "\n",
        "A dictionary in Python is an unordered collection of items. Each item stored in a dictionary has a key-value pair. You can use the key to access the corresponding value. Dictionaries are mutable, meaning that you can add or remove items. Dictionaries are written with curly brackets `{}`.\n",
        "\n",
        "Example:"
      ],
      "metadata": {
        "id": "8VWwgwzAu631"
      },
      "id": "8VWwgwzAu631"
    },
    {
      "cell_type": "code",
      "source": [
        "my_dict = {\"name\": \"Alice\", \"age\": 25, \"city\": \"New York\"}\n",
        "print(type(my_dict))  # Output: <class 'dict'>\n"
      ],
      "metadata": {
        "colab": {
          "base_uri": "https://localhost:8080/"
        },
        "id": "-XcgkodMn_kw",
        "outputId": "ada2cb7b-5cdf-4570-9dee-267c17bd9a63"
      },
      "id": "-XcgkodMn_kw",
      "execution_count": null,
      "outputs": [
        {
          "output_type": "stream",
          "name": "stdout",
          "text": [
            "<class 'dict'>\n"
          ]
        }
      ]
    },
    {
      "cell_type": "markdown",
      "source": [
        "In the example above, `my_dict` is a dictionary with keys `name`, `age`, `city` and corresponding values `Alice`, `25`, `New York`."
      ],
      "metadata": {
        "id": "dleHfKjawVwv"
      },
      "id": "dleHfKjawVwv"
    },
    {
      "cell_type": "markdown",
      "source": [
        "####3.6.1 Operations with Dictionaries:\n",
        "\n",
        "**Creation:** You can create a dictionary by placing a comma-separated sequence of key-value pairs inside curly brackets {}. Key-value pairs are separated by a colon :.\n",
        "\n",
        "Example:"
      ],
      "metadata": {
        "id": "gfOBPeY1wuz8"
      },
      "id": "gfOBPeY1wuz8"
    },
    {
      "cell_type": "code",
      "source": [
        "my_dict = {\"name\": \"Alice\", \"age\": 25, \"city\": \"New York\"}\n"
      ],
      "metadata": {
        "id": "vC1Dh3igwR9n"
      },
      "id": "vC1Dh3igwR9n",
      "execution_count": null,
      "outputs": []
    },
    {
      "cell_type": "markdown",
      "source": [
        "**Adding Key-Value Pairs:** You can add new key-value pairs to the dictionary.\n",
        "\n",
        "Example:"
      ],
      "metadata": {
        "id": "jJx0VjQuxHi6"
      },
      "id": "jJx0VjQuxHi6"
    },
    {
      "cell_type": "code",
      "source": [
        "my_dict = {\"name\": \"Alice\", \"age\": 25, \"city\": \"New York\"}\n",
        "my_dict[\"job\"] = \"Engineer\"  # Add a new key-value pair\n",
        "print(my_dict)  # Output: {'name': 'Alice', 'age': 25, 'city': 'New York', 'job': 'Engineer'}\n"
      ],
      "metadata": {
        "colab": {
          "base_uri": "https://localhost:8080/"
        },
        "id": "HXhP9txhwR6o",
        "outputId": "78b0cfe1-3d5f-4621-8bb7-2adf2d231492"
      },
      "id": "HXhP9txhwR6o",
      "execution_count": null,
      "outputs": [
        {
          "output_type": "stream",
          "name": "stdout",
          "text": [
            "{'name': 'Alice', 'age': 25, 'city': 'New York', 'job': 'Engineer'}\n"
          ]
        }
      ]
    },
    {
      "cell_type": "markdown",
      "source": [
        "**Removing Key-Value Pairs:** You can remove key-value pairs using the `del` statement.\n",
        "\n",
        "Example:"
      ],
      "metadata": {
        "id": "PRbGz8BfxWKU"
      },
      "id": "PRbGz8BfxWKU"
    },
    {
      "cell_type": "code",
      "source": [
        "my_dict = {\"name\": \"Alice\", \"age\": 25, \"city\": \"New York\", \"job\": \"Engineer\"}\n",
        "del my_dict[\"job\"]  # Remove a key-value pair\n",
        "print(my_dict)  # Output: {'name': 'Alice', 'age': 25, 'city': 'New York'}\n"
      ],
      "metadata": {
        "colab": {
          "base_uri": "https://localhost:8080/"
        },
        "id": "1g0keP5KwR4g",
        "outputId": "a51c7fc1-7ad7-45ea-aacc-caa2a2392db3"
      },
      "id": "1g0keP5KwR4g",
      "execution_count": null,
      "outputs": [
        {
          "output_type": "stream",
          "name": "stdout",
          "text": [
            "{'name': 'Alice', 'age': 25, 'city': 'New York'}\n"
          ]
        }
      ]
    },
    {
      "cell_type": "markdown",
      "source": [
        "**Accessing Elements:** You can access the items of a dictionary by referring to its `key`.\n",
        "\n",
        "Example:"
      ],
      "metadata": {
        "id": "s9_2jDz2xmEQ"
      },
      "id": "s9_2jDz2xmEQ"
    },
    {
      "cell_type": "code",
      "source": [
        "my_dict = {\"name\": \"Alice\", \"age\": 25, \"city\": \"New York\", \"job\": \"Engineer\"}\n",
        "print(my_dict[\"name\"])  # Output: Alice\n",
        "\n",
        "# Using get() method for accessing elements\n",
        "print(my_dict.get(\"age\"))  # Output: 25\n"
      ],
      "metadata": {
        "colab": {
          "base_uri": "https://localhost:8080/"
        },
        "id": "2_UMrA8HwR2B",
        "outputId": "0207d1bc-407a-4ddb-cd0b-e0bac97c7cb1"
      },
      "id": "2_UMrA8HwR2B",
      "execution_count": null,
      "outputs": [
        {
          "output_type": "stream",
          "name": "stdout",
          "text": [
            "Alice\n",
            "25\n"
          ]
        }
      ]
    },
    {
      "cell_type": "markdown",
      "source": [
        "**Note:** The `get()` method returns `None` instead of `KeyError` if the key is not found in the dictionary."
      ],
      "metadata": {
        "id": "712uMt6-x5qF"
      },
      "id": "712uMt6-x5qF"
    },
    {
      "cell_type": "markdown",
      "source": [
        "## 4. Built-in Functions in Python\n"
      ],
      "metadata": {
        "id": "FtqOKDYd1McV"
      },
      "id": "FtqOKDYd1McV"
    },
    {
      "cell_type": "markdown",
      "source": [
        "* `len():` Returns the length (the number of items) of an object.\n"
      ],
      "metadata": {
        "id": "sJ5qrxt62tCE"
      },
      "id": "sJ5qrxt62tCE"
    },
    {
      "cell_type": "code",
      "source": [
        "my_list = [1, 2, 3, 4, 5]\n",
        "print(len(my_list))  # Outputs: 5\n"
      ],
      "metadata": {
        "colab": {
          "base_uri": "https://localhost:8080/"
        },
        "id": "TNrxCji22r03",
        "outputId": "b2660203-1dae-40e4-a4dc-9d0898228f69"
      },
      "id": "TNrxCji22r03",
      "execution_count": 1,
      "outputs": [
        {
          "output_type": "stream",
          "name": "stdout",
          "text": [
            "5\n"
          ]
        }
      ]
    },
    {
      "cell_type": "markdown",
      "source": [
        "* `input():` Reads a line from input (keyboard), converts it to a string, and returns it."
      ],
      "metadata": {
        "id": "3MVuYoQy3Nwy"
      },
      "id": "3MVuYoQy3Nwy"
    },
    {
      "cell_type": "code",
      "source": [
        "name = input(\"Enter your name: \")\n",
        "print(\"Hello, \" + name)  # Outputs: Hello, (whatever name you entered)\n"
      ],
      "metadata": {
        "colab": {
          "base_uri": "https://localhost:8080/"
        },
        "id": "KIihgd752rxx",
        "outputId": "263546f3-6989-4598-bbb8-c07bb52c16ff"
      },
      "id": "KIihgd752rxx",
      "execution_count": 2,
      "outputs": [
        {
          "output_type": "stream",
          "name": "stdout",
          "text": [
            "Enter your name: John\n",
            "Hello, John\n"
          ]
        }
      ]
    },
    {
      "cell_type": "markdown",
      "source": [
        "* `str()`, `int()`, `float()`: Convert their arguments into the corresponding type."
      ],
      "metadata": {
        "id": "tFjkaGLG3q4P"
      },
      "id": "tFjkaGLG3q4P"
    },
    {
      "cell_type": "code",
      "source": [
        "# define a number as an integer\n",
        "num = 10\n",
        "\n",
        "# convert the integer to a string and print\n",
        "num_str = str(num)\n",
        "print(\"String representation of num: \" + num_str)\n",
        "\n",
        "# convert the string back to an integer and print\n",
        "num_int = int(num_str)\n",
        "print(\"Integer representation of num_str: \" + str(num_int))\n",
        "\n",
        "# convert the integer to a float and print\n",
        "num_float = float(num)\n",
        "print(\"Float representation of num: \" + str(num_float))\n"
      ],
      "metadata": {
        "colab": {
          "base_uri": "https://localhost:8080/"
        },
        "id": "GzmQU1fi2rul",
        "outputId": "e92727ae-c323-4c58-a92c-c18cc0fe76f4"
      },
      "id": "GzmQU1fi2rul",
      "execution_count": null,
      "outputs": [
        {
          "output_type": "stream",
          "name": "stdout",
          "text": [
            "String representation of num: 10\n",
            "Integer representation of num_str: 10\n",
            "Float representation of num: 10.0\n"
          ]
        }
      ]
    },
    {
      "cell_type": "markdown",
      "source": [
        "* `list()`, `tuple()`: Used to convert their arguments into the respective type."
      ],
      "metadata": {
        "id": "tZ72-uKR4cXl"
      },
      "id": "tZ72-uKR4cXl"
    },
    {
      "cell_type": "code",
      "source": [
        "# define a string\n",
        "s = \"Hello\"\n",
        "\n",
        "# convert the string to a list and print\n",
        "s_list = list(s)\n",
        "print(\"List representation of s: \" + str(s_list))\n",
        "print(type(s_list))\n",
        "\n",
        "# convert the list back to a tuple and print\n",
        "s_tuple = tuple(s_list)\n",
        "print(\"Tuple representation of s_list: \" + str(s_tuple))\n",
        "print(type(s_tuple))\n"
      ],
      "metadata": {
        "colab": {
          "base_uri": "https://localhost:8080/"
        },
        "id": "IB4g_P714Qns",
        "outputId": "40563ed4-e953-42a6-f502-18dc207fdf90"
      },
      "id": "IB4g_P714Qns",
      "execution_count": null,
      "outputs": [
        {
          "output_type": "stream",
          "name": "stdout",
          "text": [
            "List representation of s: ['H', 'e', 'l', 'l', 'o']\n",
            "<class 'list'>\n",
            "Tuple representation of s_list: ('H', 'e', 'l', 'l', 'o')\n",
            "<class 'tuple'>\n"
          ]
        }
      ]
    },
    {
      "cell_type": "markdown",
      "source": [
        "\n",
        "* `min()`, `max()`: Return the smallest and largest numbers in a list or array, respectively."
      ],
      "metadata": {
        "id": "oto2fZv95hhH"
      },
      "id": "oto2fZv95hhH"
    },
    {
      "cell_type": "code",
      "source": [
        "numbers = [4, 2, 9, 7]\n",
        "print(min(numbers))  # Outputs: 2\n",
        "print(max(numbers))  # Outputs: 9\n"
      ],
      "metadata": {
        "id": "J0A_woiC4QkV"
      },
      "id": "J0A_woiC4QkV",
      "execution_count": null,
      "outputs": []
    },
    {
      "cell_type": "markdown",
      "source": [
        "* `abs()`: Returns the absolute value of a number."
      ],
      "metadata": {
        "id": "6eq9F6u_5xq8"
      },
      "id": "6eq9F6u_5xq8"
    },
    {
      "cell_type": "code",
      "source": [
        "print(abs(-7))  # Outputs: 7\n"
      ],
      "metadata": {
        "id": "PJhZNAW34Qgu"
      },
      "id": "PJhZNAW34Qgu",
      "execution_count": null,
      "outputs": []
    },
    {
      "cell_type": "markdown",
      "source": [
        "* `sum()`: Returns the sum of all items in an iterable (like a list or tuple)."
      ],
      "metadata": {
        "id": "YNEp-6HP6E0o"
      },
      "id": "YNEp-6HP6E0o"
    },
    {
      "cell_type": "code",
      "source": [
        "numbers = [1, 2, 3, 4, 5]\n",
        "print(sum(numbers))  # Outputs: 15\n"
      ],
      "metadata": {
        "id": "pqM0x9la4Qdc"
      },
      "id": "pqM0x9la4Qdc",
      "execution_count": null,
      "outputs": []
    },
    {
      "cell_type": "markdown",
      "source": [
        "* `round()`: Rounds a number to the nearest integer, or to the specified number of decimals if that is provided."
      ],
      "metadata": {
        "id": "p2elNHAx6UWr"
      },
      "id": "p2elNHAx6UWr"
    },
    {
      "cell_type": "code",
      "source": [
        "print(round(3.14159, 2))  # Outputs: 3.14\n"
      ],
      "metadata": {
        "id": "RU1le0Zr4QaB"
      },
      "id": "RU1le0Zr4QaB",
      "execution_count": null,
      "outputs": []
    },
    {
      "cell_type": "markdown",
      "source": [
        "* `sorted()`: Returns a new sorted list from the items in an iterable."
      ],
      "metadata": {
        "id": "J5OR4JQz6i92"
      },
      "id": "J5OR4JQz6i92"
    },
    {
      "cell_type": "code",
      "source": [
        "numbers = [5, 1, 9, 3]\n",
        "print(sorted(numbers))  # Outputs: [1, 3, 5, 9]\n"
      ],
      "metadata": {
        "id": "-qoD3Ubr4QWg"
      },
      "id": "-qoD3Ubr4QWg",
      "execution_count": null,
      "outputs": []
    },
    {
      "cell_type": "markdown",
      "source": [
        "These built-in functions provide some of the fundamental operations you'll frequently use when programming with Python. They can be used directly in your code without any need for import statements."
      ],
      "metadata": {
        "id": "4DHf7kzj6v0Y"
      },
      "id": "4DHf7kzj6v0Y"
    },
    {
      "cell_type": "markdown",
      "source": [
        "## 5. Python Control Flow\n",
        "\n",
        "Control flow in Python refers to the order in which the program's code executes. The control flow of a Python program is regulated by conditional statements, loops, and function calls. This section will cover conditional statements `(if, else, elif)`, `loops (for, while)`, and `control flow tools (break, continue, pass)`."
      ],
      "metadata": {
        "id": "voKC5Wp2zMmx"
      },
      "id": "voKC5Wp2zMmx"
    },
    {
      "cell_type": "markdown",
      "source": [
        "### 5.1 Conditional Statements:\n",
        "\n",
        "Conditional statements help our program decide what to do based on certain conditions.\n",
        "\n",
        "**if statement:** The `if` statement is like a question. It asks, \"Is this condition true? If so, perform the following action.\"\n",
        "\n",
        "Example:"
      ],
      "metadata": {
        "id": "jXGxr1770jxa"
      },
      "id": "jXGxr1770jxa"
    },
    {
      "cell_type": "code",
      "source": [
        "weather = \"rainy\"\n",
        "if weather == \"rainy\":\n",
        "    print(\"Don't forget your umbrella!\")\n"
      ],
      "metadata": {
        "colab": {
          "base_uri": "https://localhost:8080/"
        },
        "id": "7au8rJEMyMvZ",
        "outputId": "05831193-7cca-4fa4-db80-9e862e15197c"
      },
      "id": "7au8rJEMyMvZ",
      "execution_count": null,
      "outputs": [
        {
          "output_type": "stream",
          "name": "stdout",
          "text": [
            "Don't forget your umbrella!\n"
          ]
        }
      ]
    },
    {
      "cell_type": "markdown",
      "source": [
        "In this example, the program checks if the `weather` is \"rainy\". If so, it will advise you to not forget your umbrella."
      ],
      "metadata": {
        "id": "L5ESY1Ui1CNw"
      },
      "id": "L5ESY1Ui1CNw"
    },
    {
      "cell_type": "markdown",
      "source": [
        "**elif statement:** `elif` is short for \"else if\". It's used to check for additional conditions if the condition in the if statement was not met.\n",
        "\n",
        "Example:"
      ],
      "metadata": {
        "id": "dxUiUrxN1RyF"
      },
      "id": "dxUiUrxN1RyF"
    },
    {
      "cell_type": "code",
      "source": [
        "weather = \"sunny\"\n",
        "if weather == \"rainy\":\n",
        "    print(\"Don't forget your umbrella!\")\n",
        "elif weather == \"sunny\":\n",
        "    print(\"Wear your sunglasses!\")\n"
      ],
      "metadata": {
        "colab": {
          "base_uri": "https://localhost:8080/"
        },
        "id": "KzMw95LmyMsR",
        "outputId": "a86d68e5-2733-4d78-bb03-9ef8c1ed5b13"
      },
      "id": "KzMw95LmyMsR",
      "execution_count": null,
      "outputs": [
        {
          "output_type": "stream",
          "name": "stdout",
          "text": [
            "Wear your sunglasses!\n"
          ]
        }
      ]
    },
    {
      "cell_type": "markdown",
      "source": [
        "Here, the program checks if the `weather` is \"rainy\". If not, it checks if the `weather` is \"sunny\". If so, it suggests you to wear your sunglasses."
      ],
      "metadata": {
        "id": "KLT7qC1I1lkG"
      },
      "id": "KLT7qC1I1lkG"
    },
    {
      "cell_type": "markdown",
      "source": [
        "**else statement:** The `else` statement catches anything that isn't caught by the preceding conditions.\n",
        "\n",
        "Example:"
      ],
      "metadata": {
        "id": "dq6v0anT1wgj"
      },
      "id": "dq6v0anT1wgj"
    },
    {
      "cell_type": "code",
      "source": [
        "weather = \"snowy\"\n",
        "if weather == \"rainy\":\n",
        "    print(\"Don't forget your umbrella!\")\n",
        "elif weather == \"sunny\":\n",
        "    print(\"Wear your sunglasses!\")\n",
        "else:\n",
        "    print(\"Stay at home!\")\n"
      ],
      "metadata": {
        "colab": {
          "base_uri": "https://localhost:8080/"
        },
        "id": "Jbh9Arf1yMo9",
        "outputId": "373bf01a-9267-41ab-c59c-f5c2f102b079"
      },
      "id": "Jbh9Arf1yMo9",
      "execution_count": null,
      "outputs": [
        {
          "output_type": "stream",
          "name": "stdout",
          "text": [
            "Stay at home!\n"
          ]
        }
      ]
    },
    {
      "cell_type": "markdown",
      "source": [
        "Here, if the `weather` is neither \"rainy\" nor \"sunny\", the program advises you to stay at home."
      ],
      "metadata": {
        "id": "lmAbnIJs2COW"
      },
      "id": "lmAbnIJs2COW"
    },
    {
      "cell_type": "markdown",
      "source": [
        "### 5.2 Loops:\n",
        "\n",
        "Loops allow us to run a block of code several times"
      ],
      "metadata": {
        "id": "M6DdYVsk2Mjg"
      },
      "id": "M6DdYVsk2Mjg"
    },
    {
      "cell_type": "markdown",
      "source": [
        "**for loop:** A `for` loop is used to iterate over a sequence (like a list, tuple, string, or range) or other iterable objects. It's like saying, \"For each item in this group, do these steps.\"\n",
        "\n",
        "Example:"
      ],
      "metadata": {
        "id": "RJ6RtMEX2WMa"
      },
      "id": "RJ6RtMEX2WMa"
    },
    {
      "cell_type": "markdown",
      "source": [
        "The structure of a `for` loop is:"
      ],
      "metadata": {
        "id": "l5TjMYk-4Bzz"
      },
      "id": "l5TjMYk-4Bzz"
    },
    {
      "cell_type": "code",
      "source": [
        "colors = ['Red', 'black', 'Green'] # List itmes of colors\n",
        "for color in colors:\n",
        "    print(color)\n"
      ],
      "metadata": {
        "colab": {
          "base_uri": "https://localhost:8080/"
        },
        "id": "d0a-Zyx-yMlz",
        "outputId": "c9e6b2bd-05c3-4642-bd6e-9cb44c94cd09"
      },
      "id": "d0a-Zyx-yMlz",
      "execution_count": null,
      "outputs": [
        {
          "output_type": "stream",
          "name": "stdout",
          "text": [
            "Red\n",
            "black\n",
            "Green\n"
          ]
        }
      ]
    },
    {
      "cell_type": "markdown",
      "source": [
        "Next Example:"
      ],
      "metadata": {
        "id": "xWXGutAd6PO1"
      },
      "id": "xWXGutAd6PO1"
    },
    {
      "cell_type": "code",
      "source": [
        "name = 'Carol'\n",
        "\n",
        "for a in name:\n",
        "  print(a)"
      ],
      "metadata": {
        "colab": {
          "base_uri": "https://localhost:8080/"
        },
        "id": "493VBU_4yMfy",
        "outputId": "6ede2dc8-9d87-4e50-8bf6-801d0c6cd5fa"
      },
      "id": "493VBU_4yMfy",
      "execution_count": null,
      "outputs": [
        {
          "output_type": "stream",
          "name": "stdout",
          "text": [
            "C\n",
            "a\n",
            "r\n",
            "o\n",
            "l\n"
          ]
        }
      ]
    },
    {
      "cell_type": "code",
      "source": [
        "# Using range with a single argument.\n",
        "print(\"Using range with one argument:\")\n",
        "for i in range(5):\n",
        "    print(i)\n",
        "\n",
        "# Using range with start and stop arguments.\n",
        "print(\"\\nUsing range with start and stop arguments:\")\n",
        "for i in range(2, 6):\n",
        "    print(i)\n",
        "\n",
        "# Using range with start, stop, and step arguments.\n",
        "print(\"\\nUsing range with start, stop, and step arguments:\")\n",
        "for i in range(2, 10, 2):\n",
        "    print(i)\n"
      ],
      "metadata": {
        "colab": {
          "base_uri": "https://localhost:8080/"
        },
        "id": "L7sHnPSuyMco",
        "outputId": "19bb6441-215f-4404-aa85-f872e1761de5"
      },
      "id": "L7sHnPSuyMco",
      "execution_count": null,
      "outputs": [
        {
          "output_type": "stream",
          "name": "stdout",
          "text": [
            "Using range with one argument:\n",
            "0\n",
            "1\n",
            "2\n",
            "3\n",
            "4\n",
            "\n",
            "Using range with start and stop arguments:\n",
            "2\n",
            "3\n",
            "4\n",
            "5\n",
            "\n",
            "Using range with start, stop, and step arguments:\n",
            "2\n",
            "4\n",
            "6\n",
            "8\n"
          ]
        }
      ]
    },
    {
      "cell_type": "markdown",
      "source": [
        "**for loop for dictionaries:**"
      ],
      "metadata": {
        "id": "EsubRyL-uIu6"
      },
      "id": "EsubRyL-uIu6"
    },
    {
      "cell_type": "code",
      "source": [
        "people_languages = {\n",
        "    'Alice': ['Python', 'R', 'SQL'],\n",
        "    'Bob': ['Java'],\n",
        "    'Charlie': ['Python', 'JavaScript', 'C#', 'HTML']\n",
        "}\n",
        "\n",
        "for person, languages in people_languages.items():\n",
        "    print(f\"{person} likes:\")\n",
        "    for language in languages:\n",
        "        print(f\"- {language}\")\n"
      ],
      "metadata": {
        "colab": {
          "base_uri": "https://localhost:8080/"
        },
        "id": "0K3lghCiuc1x",
        "outputId": "ec1c0a62-b89d-4338-eb4a-67e11c481dfe"
      },
      "id": "0K3lghCiuc1x",
      "execution_count": null,
      "outputs": [
        {
          "output_type": "stream",
          "name": "stdout",
          "text": [
            "Alice likes:\n",
            "- Python\n",
            "- R\n",
            "- SQL\n",
            "Bob likes:\n",
            "- Java\n",
            "Charlie likes:\n",
            "- Python\n",
            "- JavaScript\n",
            "- C#\n",
            "- HTML\n"
          ]
        }
      ]
    },
    {
      "cell_type": "markdown",
      "source": [
        "This script does the following:\n",
        "\n",
        "* It creates a dictionary `people_languages` where each person (like 'Alice', 'Bob', and 'Charlie') has a list of programming languages they like.\n",
        "\n",
        "* The `for` loop for `person, languages in people_languages.items():` iterates through the dictionary. For each iteration, `person` is the name of the person and languages is the list of `languages` they like.\n",
        "\n",
        "* Inside the `for` loop, `print(f\"{person} likes:\")` prints the name of the person.\n",
        "\n",
        "* Another `for` loop for `language in languages:` iterates over the list of languages for the current person. It prints each language with `-` before it.\n",
        "\n",
        "So this code prints who likes which programming languages in an organized way."
      ],
      "metadata": {
        "id": "pGKXjF8Buio5"
      },
      "id": "pGKXjF8Buio5"
    },
    {
      "cell_type": "markdown",
      "source": [
        "**while loop:** The `while` loop in Python is a control flow statement that allows code to be executed repeatedly based on a given Boolean condition. The `while` loop can be thought of as a repeating `if` statement. The code in the body of the while loop is executed repeatedly as long as the condition is `True`."
      ],
      "metadata": {
        "id": "F4S6kgNf9srV"
      },
      "id": "F4S6kgNf9srV"
    },
    {
      "cell_type": "markdown",
      "source": [
        "**Example 1:** Basic While Loop"
      ],
      "metadata": {
        "id": "pf75ZfLp-KZX"
      },
      "id": "pf75ZfLp-KZX"
    },
    {
      "cell_type": "code",
      "source": [
        "i = 1\n",
        "while i <= 5:\n",
        "    print(i)\n",
        "    i += 1\n"
      ],
      "metadata": {
        "colab": {
          "base_uri": "https://localhost:8080/"
        },
        "id": "V0_hWNyGyMZ2",
        "outputId": "f18818d9-c743-421c-d1d1-55104a2d61d6"
      },
      "id": "V0_hWNyGyMZ2",
      "execution_count": null,
      "outputs": [
        {
          "output_type": "stream",
          "name": "stdout",
          "text": [
            "1\n",
            "2\n",
            "3\n",
            "4\n",
            "5\n"
          ]
        }
      ]
    },
    {
      "cell_type": "markdown",
      "source": [
        "**Example 2 :** simple Python program that uses a while loop to continually ask the user for a number and then prints whether that number is odd or even:"
      ],
      "metadata": {
        "id": "b4s3KBMB_3YE"
      },
      "id": "b4s3KBMB_3YE"
    },
    {
      "cell_type": "code",
      "source": [
        "while True:\n",
        "    number = input(\"Please enter a number (or 'quit' to stop): \")\n",
        "\n",
        "    if number.lower() == 'quit':\n",
        "        break\n",
        "\n",
        "    number = int(number)\n",
        "\n",
        "    if number % 2 == 0:\n",
        "        print(f\"The number {number} is even.\")\n",
        "    else:\n",
        "        print(f\"The number {number} is odd.\")\n"
      ],
      "metadata": {
        "colab": {
          "base_uri": "https://localhost:8080/"
        },
        "id": "oS3k56I-APDs",
        "outputId": "49a9d392-996f-466d-866b-c1f642795053"
      },
      "id": "oS3k56I-APDs",
      "execution_count": null,
      "outputs": [
        {
          "name": "stdout",
          "output_type": "stream",
          "text": [
            "Please enter a number (or 'quit' to stop): 45\n",
            "The number 45 is odd.\n",
            "Please enter a number (or 'quit' to stop): 24\n",
            "The number 24 is even.\n",
            "Please enter a number (or 'quit' to stop): quit\n"
          ]
        }
      ]
    },
    {
      "cell_type": "markdown",
      "source": [
        "### 5.3. Control Statements:"
      ],
      "metadata": {
        "id": "Ld9Gc4BwA94i"
      },
      "id": "Ld9Gc4BwA94i"
    },
    {
      "cell_type": "markdown",
      "source": [
        "Control statements allow us to manage the flow of our loops.\n",
        "\n",
        "**break statement:** The `break` statement is used to completely exit the loop before it has run its course.\n",
        "\n",
        "Example:"
      ],
      "metadata": {
        "id": "z8OxFpArBD2Q"
      },
      "id": "z8OxFpArBD2Q"
    },
    {
      "cell_type": "code",
      "source": [
        "for number in range(10):\n",
        "    if number == 5:\n",
        "        break\n",
        "    print(number)\n"
      ],
      "metadata": {
        "colab": {
          "base_uri": "https://localhost:8080/"
        },
        "id": "r689HbriwRzf",
        "outputId": "38f6eaf0-ff90-448e-eb47-1d631689f661"
      },
      "id": "r689HbriwRzf",
      "execution_count": null,
      "outputs": [
        {
          "output_type": "stream",
          "name": "stdout",
          "text": [
            "0\n",
            "1\n",
            "2\n",
            "3\n",
            "4\n"
          ]
        }
      ]
    },
    {
      "cell_type": "markdown",
      "source": [
        "Here, the loop will stop once `number` equals 5, even though the `range` goes up to 9."
      ],
      "metadata": {
        "id": "ixyYjbGhBZUo"
      },
      "id": "ixyYjbGhBZUo"
    },
    {
      "cell_type": "markdown",
      "source": [
        "**continue statement:** The `continue` statement is used to skip the rest of the current loop iteration and immediately start the next one.\n",
        "\n",
        "Example:"
      ],
      "metadata": {
        "id": "eC0Tg0vXq4Ov"
      },
      "id": "eC0Tg0vXq4Ov"
    },
    {
      "cell_type": "code",
      "source": [
        "for number in range(10):\n",
        "    if number == 5:\n",
        "        continue\n",
        "    print(number)\n"
      ],
      "metadata": {
        "id": "C331fRHWAdLb",
        "colab": {
          "base_uri": "https://localhost:8080/"
        },
        "outputId": "43dea5ee-f00f-4124-c389-412798d53bdd"
      },
      "id": "C331fRHWAdLb",
      "execution_count": null,
      "outputs": [
        {
          "output_type": "stream",
          "name": "stdout",
          "text": [
            "0\n",
            "1\n",
            "2\n",
            "3\n",
            "4\n",
            "6\n",
            "7\n",
            "8\n",
            "9\n"
          ]
        }
      ]
    },
    {
      "cell_type": "markdown",
      "source": [
        "Here's a simple example of a `for` loop with a `pass` statement:"
      ],
      "metadata": {
        "id": "SQj8Y8rcsdYf"
      },
      "id": "SQj8Y8rcsdYf"
    },
    {
      "cell_type": "code",
      "source": [
        "for num in [1, 2, 3, 4, 5]:\n",
        "    if num == 3:\n",
        "        pass  # This is where we don't want to take any action\n",
        "    else:\n",
        "        print(num)\n"
      ],
      "metadata": {
        "id": "Is5Ab5guwRwy",
        "colab": {
          "base_uri": "https://localhost:8080/"
        },
        "outputId": "c8445133-4582-48ad-f2f4-ae680d76d571"
      },
      "id": "Is5Ab5guwRwy",
      "execution_count": null,
      "outputs": [
        {
          "output_type": "stream",
          "name": "stdout",
          "text": [
            "1\n",
            "2\n",
            "4\n",
            "5\n"
          ]
        }
      ]
    },
    {
      "cell_type": "markdown",
      "source": [
        "## 6. Functions in Python"
      ],
      "metadata": {
        "id": "CFNjXDgHv1k6"
      },
      "id": "CFNjXDgHv1k6"
    },
    {
      "cell_type": "markdown",
      "source": [
        "### 6.1. What are functions and why are they important?\n",
        "\n",
        "In Python, a function is a block of organized, reusable code that is used to perform a single, related action. Functions allow for code reuse, help make the code more readable, and divide complex problems into smaller and more manageable tasks.\n"
      ],
      "metadata": {
        "id": "0b0P3DEcwCTI"
      },
      "id": "0b0P3DEcwCTI"
    },
    {
      "cell_type": "markdown",
      "source": [
        "### 6.2. Creating a Function"
      ],
      "metadata": {
        "id": "8MD7M47QwQey"
      },
      "id": "8MD7M47QwQey"
    },
    {
      "cell_type": "markdown",
      "source": [
        "Creating a function in Python involves the `def` keyword, the name of the function, parentheses `()`, and a colon `:`. Any input parameters or arguments should be placed within these parentheses. The function code block is indented."
      ],
      "metadata": {
        "id": "V27bxkhQwZsH"
      },
      "id": "V27bxkhQwZsH"
    },
    {
      "cell_type": "code",
      "source": [
        "def greet():\n",
        "    print(\"Hello, world!\")\n"
      ],
      "metadata": {
        "id": "bYFoOdo1t0RY"
      },
      "id": "bYFoOdo1t0RY",
      "execution_count": null,
      "outputs": []
    },
    {
      "cell_type": "markdown",
      "source": [
        "In this case, `greet` is the function name, and it takes no parameters. To call the function, simply write its name followed by parentheses:"
      ],
      "metadata": {
        "id": "4Ko1V6wNwqto"
      },
      "id": "4Ko1V6wNwqto"
    },
    {
      "cell_type": "code",
      "source": [
        "greet()  # Outputs: Hello, world!"
      ],
      "metadata": {
        "id": "7UXOoySdt0Ot"
      },
      "id": "7UXOoySdt0Ot",
      "execution_count": null,
      "outputs": []
    },
    {
      "cell_type": "markdown",
      "source": [
        "Functions can also take parameters and return a result:"
      ],
      "metadata": {
        "id": "k2ikCol9x_he"
      },
      "id": "k2ikCol9x_he"
    },
    {
      "cell_type": "code",
      "source": [
        "def add_numbers(a, b):\n",
        "    return a + b\n",
        "\n",
        "result = add_numbers(5, 3)\n",
        "print(result)  # Outputs: 8\n"
      ],
      "metadata": {
        "id": "yPc6HTDZt0L6"
      },
      "id": "yPc6HTDZt0L6",
      "execution_count": null,
      "outputs": []
    },
    {
      "cell_type": "markdown",
      "source": [
        "In this example, `add_numbers` is the function name, and `a` and `b` are parameters. The function calculates the sum of a and b and returns the result. The `return` statement is used to exit a function and return a value."
      ],
      "metadata": {
        "id": "j2Q0FiKJyMP6"
      },
      "id": "j2Q0FiKJyMP6"
    },
    {
      "cell_type": "markdown",
      "source": [
        "## 7. Handling Errors and Exceptions in Python\n",
        "\n",
        "\n"
      ],
      "metadata": {
        "id": "LWr7J8yV8mXR"
      },
      "id": "LWr7J8yV8mXR"
    },
    {
      "cell_type": "markdown",
      "source": [
        "\n",
        "### 7.1. Different Types of Errors\n",
        "Errors in Python programming are common and are split into several types:"
      ],
      "metadata": {
        "id": "UOAR0GHW4nrm"
      },
      "id": "UOAR0GHW4nrm"
    },
    {
      "cell_type": "markdown",
      "source": [
        "**Syntax Errors:** Also known as parsing errors, they are perhaps the most common kind of complaint you get while learning Python. The parser points to the line where the error was detected."
      ],
      "metadata": {
        "id": "ZA1aI-cz9YDD"
      },
      "id": "ZA1aI-cz9YDD"
    },
    {
      "cell_type": "code",
      "source": [
        "print(\"Hello, world)  # The string isn't closed, so this will raise a syntax error\n"
      ],
      "metadata": {
        "colab": {
          "base_uri": "https://localhost:8080/",
          "height": 133
        },
        "id": "us2HnFMut0JV",
        "outputId": "3dc514f8-f124-4000-bc3a-190d6daba5d9"
      },
      "id": "us2HnFMut0JV",
      "execution_count": null,
      "outputs": [
        {
          "output_type": "error",
          "ename": "SyntaxError",
          "evalue": "ignored",
          "traceback": [
            "\u001b[0;36m  File \u001b[0;32m\"<ipython-input-51-43c52884adb5>\"\u001b[0;36m, line \u001b[0;32m1\u001b[0m\n\u001b[0;31m    print(\"Hello, world)  # The string isn't closed, so this will raise a syntax error\u001b[0m\n\u001b[0m          ^\u001b[0m\n\u001b[0;31mSyntaxError\u001b[0m\u001b[0;31m:\u001b[0m unterminated string literal (detected at line 1)\n"
          ]
        }
      ]
    },
    {
      "cell_type": "markdown",
      "source": [
        "**Exceptions:** Even if a statement or expression is syntactically correct, it may cause an error when it is executed. These are known as exceptions. Examples of exceptions include `TypeError`, `ValueError`, `IndexError`, and so forth."
      ],
      "metadata": {
        "id": "-cUel27e9v4n"
      },
      "id": "-cUel27e9v4n"
    },
    {
      "cell_type": "code",
      "source": [
        "print(1 / 0)  # This will raise a ZeroDivisionError, which is a type of exception\n"
      ],
      "metadata": {
        "colab": {
          "base_uri": "https://localhost:8080/",
          "height": 169
        },
        "id": "mWM21bGqt0Gj",
        "outputId": "6676e6cf-4b55-4ca9-f8b4-5e30fa2e2460"
      },
      "id": "mWM21bGqt0Gj",
      "execution_count": null,
      "outputs": [
        {
          "output_type": "error",
          "ename": "ZeroDivisionError",
          "evalue": "ignored",
          "traceback": [
            "\u001b[0;31m---------------------------------------------------------------------------\u001b[0m",
            "\u001b[0;31mZeroDivisionError\u001b[0m                         Traceback (most recent call last)",
            "\u001b[0;32m<ipython-input-52-080f68ce8f1f>\u001b[0m in \u001b[0;36m<cell line: 1>\u001b[0;34m()\u001b[0m\n\u001b[0;32m----> 1\u001b[0;31m \u001b[0mprint\u001b[0m\u001b[0;34m(\u001b[0m\u001b[0;36m1\u001b[0m \u001b[0;34m/\u001b[0m \u001b[0;36m0\u001b[0m\u001b[0;34m)\u001b[0m  \u001b[0;31m# This will raise a ZeroDivisionError, which is a type of exception\u001b[0m\u001b[0;34m\u001b[0m\u001b[0;34m\u001b[0m\u001b[0m\n\u001b[0m",
            "\u001b[0;31mZeroDivisionError\u001b[0m: division by zero"
          ]
        }
      ]
    },
    {
      "cell_type": "markdown",
      "source": [
        "**Logical Errors:** These are the most challenging errors to fix. They occur when the program runs without crashing, but produces the wrong result. These are due to errors in the program's logic."
      ],
      "metadata": {
        "id": "Zx-vhOJy-8sq"
      },
      "id": "Zx-vhOJy-8sq"
    },
    {
      "cell_type": "code",
      "source": [
        "# A program to calculate the average of numbers in a list\n",
        "numbers = [1, 2, 3, 4, 5]\n",
        "avg = sum(numbers)  # This is a logical error, we should divide the sum by the count of numbers\n",
        "print(avg)  # This will not raise an error but will give the wrong result\n"
      ],
      "metadata": {
        "colab": {
          "base_uri": "https://localhost:8080/",
          "height": 223
        },
        "id": "VchD1L2yt0D5",
        "outputId": "877d98aa-2ae6-471c-cd0f-a10b477b9373"
      },
      "id": "VchD1L2yt0D5",
      "execution_count": null,
      "outputs": [
        {
          "output_type": "error",
          "ename": "TypeError",
          "evalue": "ignored",
          "traceback": [
            "\u001b[0;31m---------------------------------------------------------------------------\u001b[0m",
            "\u001b[0;31mTypeError\u001b[0m                                 Traceback (most recent call last)",
            "\u001b[0;32m<ipython-input-53-97739db741f3>\u001b[0m in \u001b[0;36m<cell line: 3>\u001b[0;34m()\u001b[0m\n\u001b[1;32m      1\u001b[0m \u001b[0;31m# A program to calculate the average of numbers in a list\u001b[0m\u001b[0;34m\u001b[0m\u001b[0;34m\u001b[0m\u001b[0m\n\u001b[1;32m      2\u001b[0m \u001b[0mnumbers\u001b[0m \u001b[0;34m=\u001b[0m \u001b[0;34m[\u001b[0m\u001b[0;36m1\u001b[0m\u001b[0;34m,\u001b[0m \u001b[0;36m2\u001b[0m\u001b[0;34m,\u001b[0m \u001b[0;36m3\u001b[0m\u001b[0;34m,\u001b[0m \u001b[0;36m4\u001b[0m\u001b[0;34m,\u001b[0m \u001b[0;36m5\u001b[0m\u001b[0;34m]\u001b[0m\u001b[0;34m\u001b[0m\u001b[0;34m\u001b[0m\u001b[0m\n\u001b[0;32m----> 3\u001b[0;31m \u001b[0mavg\u001b[0m \u001b[0;34m=\u001b[0m \u001b[0msum\u001b[0m\u001b[0;34m(\u001b[0m\u001b[0mnumbers\u001b[0m\u001b[0;34m)\u001b[0m  \u001b[0;31m# This is a logical error, we should divide the sum by the count of numbers\u001b[0m\u001b[0;34m\u001b[0m\u001b[0;34m\u001b[0m\u001b[0m\n\u001b[0m\u001b[1;32m      4\u001b[0m \u001b[0mprint\u001b[0m\u001b[0;34m(\u001b[0m\u001b[0mavg\u001b[0m\u001b[0;34m)\u001b[0m  \u001b[0;31m# This will not raise an error but will give the wrong result\u001b[0m\u001b[0;34m\u001b[0m\u001b[0;34m\u001b[0m\u001b[0m\n",
            "\u001b[0;31mTypeError\u001b[0m: 'int' object is not callable"
          ]
        }
      ]
    },
    {
      "cell_type": "markdown",
      "source": [
        "### 7.2. Try, Except, Finally, and Raise Statements"
      ],
      "metadata": {
        "id": "nNKcgMP0_XQG"
      },
      "id": "nNKcgMP0_XQG"
    },
    {
      "cell_type": "markdown",
      "source": [
        "**try & except:** Python has a `try` and `except` statement for handling exceptions. The code that can cause an exception to occur is put in the try block and the handling of the exception is done in the except block."
      ],
      "metadata": {
        "id": "PNDPFPI-_f3e"
      },
      "id": "PNDPFPI-_f3e"
    },
    {
      "cell_type": "code",
      "source": [
        "try:\n",
        "    print(1 / 0)\n",
        "except ZeroDivisionError:\n",
        "    print(\"You can't divide by zero!\")\n"
      ],
      "metadata": {
        "colab": {
          "base_uri": "https://localhost:8080/"
        },
        "id": "xjbsvBMwt0A0",
        "outputId": "6de484df-0d4c-4efc-d857-3c05ef4d0c57"
      },
      "id": "xjbsvBMwt0A0",
      "execution_count": null,
      "outputs": [
        {
          "output_type": "stream",
          "name": "stdout",
          "text": [
            "You can't divide by zero!\n"
          ]
        }
      ]
    },
    {
      "cell_type": "markdown",
      "source": [
        "**finally:** The `finally` statement is optional and can be used with the `try` statement. The code in the finally block will be executed regardless of whether an exception occurs in the try block."
      ],
      "metadata": {
        "id": "l7rbqmZu_t-O"
      },
      "id": "l7rbqmZu_t-O"
    },
    {
      "cell_type": "code",
      "source": [
        "try:\n",
        "    print(1 / 0)\n",
        "except ZeroDivisionError:\n",
        "    print(\"You can't divide by zero!\")\n",
        "finally:\n",
        "    print(\"This line is always executed.\")\n"
      ],
      "metadata": {
        "id": "bHcw-dqtwRuM",
        "colab": {
          "base_uri": "https://localhost:8080/"
        },
        "outputId": "03afb844-ec85-42b1-811d-96961a2df82c"
      },
      "id": "bHcw-dqtwRuM",
      "execution_count": null,
      "outputs": [
        {
          "output_type": "stream",
          "name": "stdout",
          "text": [
            "You can't divide by zero!\n",
            "This line is always executed.\n"
          ]
        }
      ]
    },
    {
      "cell_type": "markdown",
      "source": [
        "**raise:** You can use the raise statement to `raise` an exception."
      ],
      "metadata": {
        "id": "BdrabMORAHcv"
      },
      "id": "BdrabMORAHcv"
    },
    {
      "cell_type": "code",
      "source": [
        "x = -1\n",
        "if x < 0:\n",
        "    raise Exception(\"Sorry, no numbers below zero\")\n"
      ],
      "metadata": {
        "colab": {
          "base_uri": "https://localhost:8080/",
          "height": 205
        },
        "id": "h57HW_C5tSx-",
        "outputId": "00392135-d9d5-428f-f77f-06bc214c9580"
      },
      "id": "h57HW_C5tSx-",
      "execution_count": null,
      "outputs": [
        {
          "output_type": "error",
          "ename": "Exception",
          "evalue": "ignored",
          "traceback": [
            "\u001b[0;31m---------------------------------------------------------------------------\u001b[0m",
            "\u001b[0;31mException\u001b[0m                                 Traceback (most recent call last)",
            "\u001b[0;32m<ipython-input-56-23d0eb626da9>\u001b[0m in \u001b[0;36m<cell line: 2>\u001b[0;34m()\u001b[0m\n\u001b[1;32m      1\u001b[0m \u001b[0mx\u001b[0m \u001b[0;34m=\u001b[0m \u001b[0;34m-\u001b[0m\u001b[0;36m1\u001b[0m\u001b[0;34m\u001b[0m\u001b[0;34m\u001b[0m\u001b[0m\n\u001b[1;32m      2\u001b[0m \u001b[0;32mif\u001b[0m \u001b[0mx\u001b[0m \u001b[0;34m<\u001b[0m \u001b[0;36m0\u001b[0m\u001b[0;34m:\u001b[0m\u001b[0;34m\u001b[0m\u001b[0;34m\u001b[0m\u001b[0m\n\u001b[0;32m----> 3\u001b[0;31m     \u001b[0;32mraise\u001b[0m \u001b[0mException\u001b[0m\u001b[0;34m(\u001b[0m\u001b[0;34m\"Sorry, no numbers below zero\"\u001b[0m\u001b[0;34m)\u001b[0m\u001b[0;34m\u001b[0m\u001b[0;34m\u001b[0m\u001b[0m\n\u001b[0m",
            "\u001b[0;31mException\u001b[0m: Sorry, no numbers below zero"
          ]
        }
      ]
    },
    {
      "cell_type": "markdown",
      "source": [
        "## 8.  Python Modules and Libraries\n",
        "\n"
      ],
      "metadata": {
        "id": "eqTy68BCApIG"
      },
      "id": "eqTy68BCApIG"
    },
    {
      "cell_type": "markdown",
      "source": [
        "\n",
        "###8.1. What is a Module?\n",
        "A module in Python is a file that contains Python code. The code could be function definitions or executable statements, which you can import and use in your own programs. This helps you to organize your code in a clean way. Python provides many built-in modules."
      ],
      "metadata": {
        "id": "HEMHC91C5Paf"
      },
      "id": "HEMHC91C5Paf"
    },
    {
      "cell_type": "markdown",
      "source": [
        "For example, the `math` module provides mathematical functions. Here's how you use it:"
      ],
      "metadata": {
        "id": "KRXIk-jWA3XH"
      },
      "id": "KRXIk-jWA3XH"
    },
    {
      "cell_type": "code",
      "source": [
        "import math\n",
        "\n",
        "# Use a function from the math module\n",
        "print(math.sqrt(16))  # prints: 4.0\n"
      ],
      "metadata": {
        "id": "g4S6O6HLtSve"
      },
      "id": "g4S6O6HLtSve",
      "execution_count": null,
      "outputs": []
    },
    {
      "cell_type": "markdown",
      "source": [
        "### 8.2. Python Libraries\n",
        "\n",
        "A Python library is a collection of modules that you can use to perform common tasks. For example, the `random` library provides functions for generating random numbers."
      ],
      "metadata": {
        "id": "hB8vz16LBDEl"
      },
      "id": "hB8vz16LBDEl"
    },
    {
      "cell_type": "code",
      "source": [
        "import random\n",
        "\n",
        "# Use a function from the random library\n",
        "print(random.randint(1, 10))  # prints a random integer between 1 and 10\n"
      ],
      "metadata": {
        "colab": {
          "base_uri": "https://localhost:8080/"
        },
        "id": "g_OX1pditSs8",
        "outputId": "bc66f555-0d85-428a-ab27-4ae80036f90b"
      },
      "id": "g_OX1pditSs8",
      "execution_count": null,
      "outputs": [
        {
          "output_type": "stream",
          "name": "stdout",
          "text": [
            "8\n"
          ]
        }
      ]
    },
    {
      "cell_type": "markdown",
      "source": [
        "## 9. Reference"
      ],
      "metadata": {
        "id": "RK_NGXUzGxRm"
      },
      "id": "RK_NGXUzGxRm"
    },
    {
      "cell_type": "markdown",
      "source": [
        "1. Python.org. (2021). [Python Tutorial.](https://docs.python.org/3/tutorial/index.html)\n",
        "2. Sweigart, A. (2019). [Automate the Boring Stuff with Python. No Starch Press.](https://www.amazon.com/Automate-Boring-Stuff-Python-Programming/dp/1593275994)\n",
        "3. Matthes, E. (2019). Python Crash Course, 2nd Edition: A Hands-On, Project-Based Introduction to Programming. No Starch Press. Available at [Amazon](https://www.amazon.com/Python-Crash-Course-Eric-Matthes/dp/1593279280/)\n",
        "4. Corey Schafer. (2021). [Python Programming Beginner Tutorials. YouTube Playlist.](https://www.youtube.com/playlist?list=PL-osiE80TeTt2d9bfVyTiXJA-UTHn6WwU)\n",
        "\n",
        "5. Sentdex. (2021). [Python Programming Basic. YouTube Playlist.](https://www.youtube.com/playlist?list=PLQVvvaa0QuDe8XSftW-RAxdo6OmaeL85M)\n",
        "\n",
        "6. Jovian. (2020). [Data Analysis with Python: Zero to Pandas](https://www.youtube.com/watch?v=BaV4PRXYNIY&list=PLyMom0n-MBrpzC91Uo560S4VbsiLYtCwo)\n",
        "7. Colt Steele. [The Modern Python 3 Bootcamp. Udemy](https://www.udemy.com/course/the-modern-python3-bootcamp/)"
      ],
      "metadata": {
        "id": "jxNUkX6sG88j"
      },
      "id": "jxNUkX6sG88j"
    },
    {
      "cell_type": "markdown",
      "source": [
        "Follow me on [Medium](https://norochalise.medium.com/) , [Twitter](https://twitter.com/norochalise) & [LinkedIn](https://www.linkedin.com/in/norochalise/)"
      ],
      "metadata": {
        "id": "MkxROCHfLuCO"
      },
      "id": "MkxROCHfLuCO"
    }
  ],
  "metadata": {
    "kernelspec": {
      "display_name": "Python 3 (ipykernel)",
      "language": "python",
      "name": "python3"
    },
    "language_info": {
      "codemirror_mode": {
        "name": "ipython",
        "version": 3
      },
      "file_extension": ".py",
      "mimetype": "text/x-python",
      "name": "python",
      "nbconvert_exporter": "python",
      "pygments_lexer": "ipython3",
      "version": "3.9.12"
    },
    "colab": {
      "provenance": []
    }
  },
  "nbformat": 4,
  "nbformat_minor": 5
}